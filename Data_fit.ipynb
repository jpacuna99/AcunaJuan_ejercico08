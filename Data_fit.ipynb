{
 "cells": [
  {
   "cell_type": "code",
   "execution_count": 29,
   "metadata": {},
   "outputs": [
    {
     "name": "stderr",
     "output_type": "stream",
     "text": [
      "/srv/conda/envs/notebook/lib/python3.7/site-packages/ipykernel_launcher.py:10: RuntimeWarning: divide by zero encountered in double_scalars\n",
      "  # Remove the CWD from sys.path while we load stuff.\n"
     ]
    },
    {
     "data": {
      "image/png": "[encoded data removed]",
      "text/plain": [
       "<Figure size 432x288 with 1 Axes>"
      ]
     },
     "metadata": {
      "needs_background": "light"
     },
     "output_type": "display_data"
    }
   ],
   "source": [
    "import numpy as np\n",
    "import matplotlib.pyplot as plt\n",
    "\n",
    "\n",
    "def model_A(x, params):\n",
    "    y = params[0]+x*params[1]+params[2]*x**2.\n",
    "    return y\n",
    "\n",
    "def model_B(x, params):\n",
    "    y = params[0]*(np.exp(-0.5*(x-params[1])**2./params[2]**2.))\n",
    "    return y\n",
    "\n",
    "def loglike(x_obs, y_obs, sigma_y_obs, betas,model):\n",
    "    n_obs = len(y_obs)\n",
    "    l = 0.0\n",
    "    for i in range(n_obs):\n",
    "        l += -0.5*(y_obs[i]-model(x_obs[i], betas))**2/sigma_y_obs[i]**2\n",
    "    return l\n",
    "\n",
    "\n",
    "\n",
    "\n",
    "def run_mcmc(x_obs,y_obs, n_dim, n_iterations, sigma_y_obs,model):\n",
    "    \n",
    "    \n",
    "\n",
    "    betas = np.zeros([n_iterations, n_dim+1])\n",
    "    for i in range(1, n_iterations):\n",
    "        current_betas = betas[i-1,:]\n",
    "        next_betas = current_betas + np.random.normal(scale=0.1, size=n_dim+1)\n",
    "\n",
    "        loglike_current = loglike(x_obs, y_obs, sigma_y_obs, current_betas,model)\n",
    "        loglike_next = loglike(x_obs, y_obs, sigma_y_obs, next_betas,model)\n",
    "\n",
    "        r = np.min([np.exp(loglike_next - loglike_current), 1.0])\n",
    "        alpha = np.random.random()\n",
    "\n",
    "        if alpha < r:\n",
    "            betas[i,:] = next_betas\n",
    "        else:\n",
    "            betas[i,:] = current_betas\n",
    "    betas = betas[n_iterations//2:,:]\n",
    "    return {'betas':betas, 'x_obs':x_obs, 'y_obs':y_obs}\n",
    "\n",
    "data = np.loadtxt(\"data_to_fit.txt\")\n",
    "x_obs = data[:,0]\n",
    "y_obs = data[:,1]\n",
    "sigma= data[:,2]\n",
    "\n",
    "\n",
    "results_A = run_mcmc(x_obs,y_obs,2,2000,sigma,model_A)\n",
    "results_B = run_mcmc(x_obs,y_obs,2,2000,sigma,model_B)\n",
    "betas_A = results_A['betas']\n",
    "betas_B = results_B['betas']\n",
    "\n",
    "xf=np.linspace(np.amin(x_obs),np.amax(x_obs),1000)\n",
    "plt.figure()\n",
    "\n",
    "plt.scatter(x_obs,y_obs)\n",
    "plt.plot(xf,model_A(xf,betas_A[-1,:]),c=\"r\")\n",
    "plt.plot(xf,model_B(xf,betas_B[-1,:]),c=\"orange\")\n",
    "plt.savefig(\"ajuste_bayes_mcmc.png\",  bbox_inches='tight')    "
   ]
  },
  {
   "cell_type": "code",
   "execution_count": null,
   "metadata": {},
   "outputs": [],
   "source": []
  }
 ],
 "metadata": {
  "kernelspec": {
   "display_name": "Python 3",
   "language": "python",
   "name": "python3"
  },
  "language_info": {
   "codemirror_mode": {
    "name": "ipython",
    "version": 3
   },
   "file_extension": ".py",
   "mimetype": "text/x-python",
   "name": "python",
   "nbconvert_exporter": "python",
   "pygments_lexer": "ipython3",
   "version": "3.7.6"
  }
 },
 "nbformat": 4,
 "nbformat_minor": 4
}
